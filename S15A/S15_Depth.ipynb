{
  "nbformat": 4,
  "nbformat_minor": 0,
  "metadata": {
    "colab": {
      "name": "S15_Depth.ipynb",
      "provenance": [],
      "collapsed_sections": [],
      "machine_shape": "hm"
    },
    "kernelspec": {
      "name": "python3",
      "display_name": "Python 3"
    },
    "accelerator": "GPU"
  },
  "cells": [
    {
      "cell_type": "code",
      "metadata": {
        "id": "KeTyVAteolxP",
        "colab_type": "code",
        "colab": {
          "base_uri": "https://localhost:8080/",
          "height": 34
        },
        "outputId": "c107f830-e648-41a4-8d1c-3da9ee1aebc4"
      },
      "source": [
        "from google.colab import drive\n",
        "ROOT = \"/content/drive\"\n",
        "drive.mount(ROOT, force_remount=True)"
      ],
      "execution_count": 1,
      "outputs": [
        {
          "output_type": "stream",
          "text": [
            "Mounted at /content/drive\n"
          ],
          "name": "stdout"
        }
      ]
    },
    {
      "cell_type": "code",
      "metadata": {
        "id": "4L3j3NFDxep1",
        "colab_type": "code",
        "colab": {}
      },
      "source": [
        "import sys\n",
        "import torch\n",
        "import torch.nn as nn\n",
        "import torch.nn.functional as F\n",
        "import os\n",
        "import torchvision.transforms as transforms\n",
        "import matplotlib.pyplot as plt\n",
        "import numpy as np\n",
        "import torch.optim as optim\n",
        "import cv2\n",
        "import numpy as np\n",
        "from google.colab.patches import cv2_imshow\n",
        "from PIL import Image\n",
        "import copy\n",
        "import random\n",
        "import PIL\n",
        "import datetime\n",
        "%matplotlib inline\n",
        "\n"
      ],
      "execution_count": 2,
      "outputs": []
    },
    {
      "cell_type": "code",
      "metadata": {
        "id": "9b_CLQdX4jk7",
        "colab_type": "code",
        "colab": {}
      },
      "source": [
        "\n",
        "os.chdir(\"/content/drive/My Drive/Utils/S15A/\")\n"
      ],
      "execution_count": 3,
      "outputs": []
    },
    {
      "cell_type": "code",
      "metadata": {
        "id": "E3-DthoRGLhm",
        "colab_type": "code",
        "colab": {}
      },
      "source": [
        "#!git clone https://github.com/ialhashim/DenseDepth.git\n",
        "\n",
        "\n",
        "\n",
        "  \n",
        "\n",
        "  "
      ],
      "execution_count": 4,
      "outputs": []
    },
    {
      "cell_type": "code",
      "metadata": {
        "id": "pA_Jx-VB-ebc",
        "colab_type": "code",
        "colab": {}
      },
      "source": [
        "#!wget https://s3-eu-west-1.amazonaws.com/densedepth/nyu.h5 -O ./DenseDepth/nyu.h5"
      ],
      "execution_count": 5,
      "outputs": []
    },
    {
      "cell_type": "code",
      "metadata": {
        "id": "CLlaescdjquU",
        "colab_type": "code",
        "colab": {
          "base_uri": "https://localhost:8080/",
          "height": 272
        },
        "outputId": "6c2ac9af-88a6-44df-9e45-db44c4ea5254"
      },
      "source": [
        "!cd DenseDepth; python test.py --input '/content/drive/My Drive/Utils/S15A/Images/fg_bg4.zip' --output '/content/drive/My Drive/Utils/S15A/Images/depth/' --start '99' --end '100' --bgNumber '4'"
      ],
      "execution_count": 6,
      "outputs": [
        {
          "output_type": "stream",
          "text": [
            "Using TensorFlow backend.\n",
            "Loading model...\n",
            "\n",
            "Model loaded (<keras.engine.training.Model object at 0x7f29359acba8>).\n",
            "My_List [{'bg_number': 100, 'zip_file_name': '/content/drive/My Drive/Utils/S15A/Images/fg_bg100.zip'}]\n",
            "{'bg_number': 100, 'zip_file_name': '/content/drive/My Drive/Utils/S15A/Images/fg_bg100.zip'} 99 100\n",
            "Bg Loop 2020-07-21 14:01:52.134783\n",
            "Traceback (most recent call last):\n",
            "  File \"test.py\", line 59, in <module>\n",
            "    with zipfile.ZipFile(file_name[\"zip_file_name\"], 'r') as zip:\n",
            "  File \"/usr/lib/python3.6/zipfile.py\", line 1131, in __init__\n",
            "    self._RealGetContents()\n",
            "  File \"/usr/lib/python3.6/zipfile.py\", line 1198, in _RealGetContents\n",
            "    raise BadZipFile(\"File is not a zip file\")\n",
            "zipfile.BadZipFile: File is not a zip file\n"
          ],
          "name": "stdout"
        }
      ]
    },
    {
      "cell_type": "code",
      "metadata": {
        "id": "oYeLfNUxwnxt",
        "colab_type": "code",
        "colab": {}
      },
      "source": [
        " "
      ],
      "execution_count": 6,
      "outputs": []
    }
  ]
}