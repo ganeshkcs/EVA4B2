{
  "nbformat": 4,
  "nbformat_minor": 0,
  "metadata": {
    "colab": {
      "name": "S12_Annotations.ipynb",
      "provenance": []
    },
    "kernelspec": {
      "name": "python3",
      "display_name": "Python 3"
    },
    "accelerator": "GPU"
  },
  "cells": [
    {
      "cell_type": "code",
      "metadata": {
        "id": "ndJJoMDgDUXc",
        "colab_type": "code",
        "colab": {
          "base_uri": "https://localhost:8080/",
          "height": 71
        },
        "outputId": "c4edc3b5-dcfe-48bc-cabe-ee2a1e1d8280"
      },
      "source": [
        "import os\n",
        "import requests\n",
        "import numpy as np\n",
        "import sklearn\n",
        "from sklearn.cluster import KMeans\n",
        "import matplotlib.pyplot as plt\n",
        "# import seaborn\n",
        "import seaborn as sns\n",
        "import json\n",
        "import pandas as pd\n",
        "%matplotlib inline"
      ],
      "execution_count": 1,
      "outputs": [
        {
          "output_type": "stream",
          "text": [
            "/usr/local/lib/python3.6/dist-packages/statsmodels/tools/_testing.py:19: FutureWarning: pandas.util.testing is deprecated. Use the functions in the public API at pandas.testing instead.\n",
            "  import pandas.util.testing as tm\n"
          ],
          "name": "stderr"
        }
      ]
    },
    {
      "cell_type": "code",
      "metadata": {
        "id": "ZqFRObdQE-0d",
        "colab_type": "code",
        "colab": {}
      },
      "source": [
        "response = requests.get('https://raw.githubusercontent.com/ganeshkcs/EVA4B2/master/S12/annotations/Dogs_coco.json')\n",
        "data = response.json()"
      ],
      "execution_count": 2,
      "outputs": []
    },
    {
      "cell_type": "code",
      "metadata": {
        "id": "-ig9L7xqFakz",
        "colab_type": "code",
        "colab": {}
      },
      "source": [
        "annotations_df = pd.DataFrame.from_dict(data['annotations'])\n",
        "images_df = pd.DataFrame.from_dict(data['images'])\n",
        "categories_df = pd.DataFrame.from_dict(data['categories'])\n",
        "\n",
        "images_df = images_df.drop(columns = ['license','date_captured' ])\n",
        "annotations_df = annotations_df.drop(columns = ['id','iscrowd'])\n",
        "categories_df = categories_df.drop(columns=['supercategory']).rename(columns = {'id':'category_id'})"
      ],
      "execution_count": 3,
      "outputs": []
    },
    {
      "cell_type": "code",
      "metadata": {
        "id": "C99X5RsiFfKV",
        "colab_type": "code",
        "colab": {
          "base_uri": "https://localhost:8080/",
          "height": 359
        },
        "outputId": "1900415e-102a-4fe7-d7cf-31409b46d767"
      },
      "source": [
        "annotations_df.head(10)"
      ],
      "execution_count": 4,
      "outputs": [
        {
          "output_type": "execute_result",
          "data": {
            "text/html": [
              "<div>\n",
              "<style scoped>\n",
              "    .dataframe tbody tr th:only-of-type {\n",
              "        vertical-align: middle;\n",
              "    }\n",
              "\n",
              "    .dataframe tbody tr th {\n",
              "        vertical-align: top;\n",
              "    }\n",
              "\n",
              "    .dataframe thead th {\n",
              "        text-align: right;\n",
              "    }\n",
              "</style>\n",
              "<table border=\"1\" class=\"dataframe\">\n",
              "  <thead>\n",
              "    <tr style=\"text-align: right;\">\n",
              "      <th></th>\n",
              "      <th>segmentation</th>\n",
              "      <th>area</th>\n",
              "      <th>bbox</th>\n",
              "      <th>image_id</th>\n",
              "      <th>category_id</th>\n",
              "    </tr>\n",
              "  </thead>\n",
              "  <tbody>\n",
              "    <tr>\n",
              "      <th>0</th>\n",
              "      <td>[[44, 27, 260, 27, 260, 177, 44, 177]]</td>\n",
              "      <td>32400</td>\n",
              "      <td>[44, 27, 216, 150]</td>\n",
              "      <td>1</td>\n",
              "      <td>1</td>\n",
              "    </tr>\n",
              "    <tr>\n",
              "      <th>1</th>\n",
              "      <td>[[54, 20, 168, 20, 168, 103, 54, 103]]</td>\n",
              "      <td>9462</td>\n",
              "      <td>[54, 20, 114, 83]</td>\n",
              "      <td>2</td>\n",
              "      <td>1</td>\n",
              "    </tr>\n",
              "    <tr>\n",
              "      <th>2</th>\n",
              "      <td>[[28, 25, 200, 25, 200, 175, 28, 175]]</td>\n",
              "      <td>25800</td>\n",
              "      <td>[28, 25, 172, 150]</td>\n",
              "      <td>3</td>\n",
              "      <td>1</td>\n",
              "    </tr>\n",
              "    <tr>\n",
              "      <th>3</th>\n",
              "      <td>[[33, 25, 233, 25, 233, 175, 33, 175]]</td>\n",
              "      <td>30000</td>\n",
              "      <td>[33, 25, 200, 150]</td>\n",
              "      <td>4</td>\n",
              "      <td>1</td>\n",
              "    </tr>\n",
              "    <tr>\n",
              "      <th>4</th>\n",
              "      <td>[[48, 21, 169, 21, 169, 171, 48, 171]]</td>\n",
              "      <td>18150</td>\n",
              "      <td>[48, 21, 121, 150]</td>\n",
              "      <td>5</td>\n",
              "      <td>1</td>\n",
              "    </tr>\n",
              "    <tr>\n",
              "      <th>5</th>\n",
              "      <td>[[22, 7, 153, 7, 153, 167, 22, 167]]</td>\n",
              "      <td>20960</td>\n",
              "      <td>[22, 7, 131, 160]</td>\n",
              "      <td>6</td>\n",
              "      <td>1</td>\n",
              "    </tr>\n",
              "    <tr>\n",
              "      <th>6</th>\n",
              "      <td>[[42, 28, 195, 28, 195, 181, 42, 181]]</td>\n",
              "      <td>23409</td>\n",
              "      <td>[42, 28, 153, 153]</td>\n",
              "      <td>7</td>\n",
              "      <td>1</td>\n",
              "    </tr>\n",
              "    <tr>\n",
              "      <th>7</th>\n",
              "      <td>[[100, 4, 195, 4, 195, 161, 100, 161]]</td>\n",
              "      <td>14915</td>\n",
              "      <td>[100, 4, 95, 157]</td>\n",
              "      <td>8</td>\n",
              "      <td>1</td>\n",
              "    </tr>\n",
              "    <tr>\n",
              "      <th>8</th>\n",
              "      <td>[[71, 18, 191, 18, 191, 170, 71, 170]]</td>\n",
              "      <td>18240</td>\n",
              "      <td>[71, 18, 120, 152]</td>\n",
              "      <td>9</td>\n",
              "      <td>1</td>\n",
              "    </tr>\n",
              "    <tr>\n",
              "      <th>9</th>\n",
              "      <td>[[29, 16, 282, 16, 282, 115, 29, 115]]</td>\n",
              "      <td>25047</td>\n",
              "      <td>[29, 16, 253, 99]</td>\n",
              "      <td>10</td>\n",
              "      <td>1</td>\n",
              "    </tr>\n",
              "  </tbody>\n",
              "</table>\n",
              "</div>"
            ],
            "text/plain": [
              "                             segmentation   area  ... image_id  category_id\n",
              "0  [[44, 27, 260, 27, 260, 177, 44, 177]]  32400  ...        1            1\n",
              "1  [[54, 20, 168, 20, 168, 103, 54, 103]]   9462  ...        2            1\n",
              "2  [[28, 25, 200, 25, 200, 175, 28, 175]]  25800  ...        3            1\n",
              "3  [[33, 25, 233, 25, 233, 175, 33, 175]]  30000  ...        4            1\n",
              "4  [[48, 21, 169, 21, 169, 171, 48, 171]]  18150  ...        5            1\n",
              "5    [[22, 7, 153, 7, 153, 167, 22, 167]]  20960  ...        6            1\n",
              "6  [[42, 28, 195, 28, 195, 181, 42, 181]]  23409  ...        7            1\n",
              "7  [[100, 4, 195, 4, 195, 161, 100, 161]]  14915  ...        8            1\n",
              "8  [[71, 18, 191, 18, 191, 170, 71, 170]]  18240  ...        9            1\n",
              "9  [[29, 16, 282, 16, 282, 115, 29, 115]]  25047  ...       10            1\n",
              "\n",
              "[10 rows x 5 columns]"
            ]
          },
          "metadata": {
            "tags": []
          },
          "execution_count": 4
        }
      ]
    },
    {
      "cell_type": "code",
      "metadata": {
        "id": "ySvHWkbcFiUI",
        "colab_type": "code",
        "colab": {
          "base_uri": "https://localhost:8080/",
          "height": 359
        },
        "outputId": "93ca1548-61c6-463c-dd30-dbd462997edd"
      },
      "source": [
        "images_df.head(10)"
      ],
      "execution_count": 5,
      "outputs": [
        {
          "output_type": "execute_result",
          "data": {
            "text/html": [
              "<div>\n",
              "<style scoped>\n",
              "    .dataframe tbody tr th:only-of-type {\n",
              "        vertical-align: middle;\n",
              "    }\n",
              "\n",
              "    .dataframe tbody tr th {\n",
              "        vertical-align: top;\n",
              "    }\n",
              "\n",
              "    .dataframe thead th {\n",
              "        text-align: right;\n",
              "    }\n",
              "</style>\n",
              "<table border=\"1\" class=\"dataframe\">\n",
              "  <thead>\n",
              "    <tr style=\"text-align: right;\">\n",
              "      <th></th>\n",
              "      <th>id</th>\n",
              "      <th>width</th>\n",
              "      <th>height</th>\n",
              "      <th>file_name</th>\n",
              "    </tr>\n",
              "  </thead>\n",
              "  <tbody>\n",
              "    <tr>\n",
              "      <th>0</th>\n",
              "      <td>1</td>\n",
              "      <td>268</td>\n",
              "      <td>188</td>\n",
              "      <td>dog50.jpg</td>\n",
              "    </tr>\n",
              "    <tr>\n",
              "      <th>1</th>\n",
              "      <td>2</td>\n",
              "      <td>275</td>\n",
              "      <td>183</td>\n",
              "      <td>dog49.jpg</td>\n",
              "    </tr>\n",
              "    <tr>\n",
              "      <th>2</th>\n",
              "      <td>3</td>\n",
              "      <td>272</td>\n",
              "      <td>185</td>\n",
              "      <td>dog48.jpg</td>\n",
              "    </tr>\n",
              "    <tr>\n",
              "      <th>3</th>\n",
              "      <td>4</td>\n",
              "      <td>275</td>\n",
              "      <td>183</td>\n",
              "      <td>dog47.jpg</td>\n",
              "    </tr>\n",
              "    <tr>\n",
              "      <th>4</th>\n",
              "      <td>5</td>\n",
              "      <td>224</td>\n",
              "      <td>224</td>\n",
              "      <td>dog46.jpg</td>\n",
              "    </tr>\n",
              "    <tr>\n",
              "      <th>5</th>\n",
              "      <td>6</td>\n",
              "      <td>259</td>\n",
              "      <td>194</td>\n",
              "      <td>dog45.jpg</td>\n",
              "    </tr>\n",
              "    <tr>\n",
              "      <th>6</th>\n",
              "      <td>7</td>\n",
              "      <td>259</td>\n",
              "      <td>194</td>\n",
              "      <td>dog44.jpg</td>\n",
              "    </tr>\n",
              "    <tr>\n",
              "      <th>7</th>\n",
              "      <td>8</td>\n",
              "      <td>300</td>\n",
              "      <td>168</td>\n",
              "      <td>dog43.jpg</td>\n",
              "    </tr>\n",
              "    <tr>\n",
              "      <th>8</th>\n",
              "      <td>9</td>\n",
              "      <td>275</td>\n",
              "      <td>183</td>\n",
              "      <td>dog42.jpg</td>\n",
              "    </tr>\n",
              "    <tr>\n",
              "      <th>9</th>\n",
              "      <td>10</td>\n",
              "      <td>347</td>\n",
              "      <td>145</td>\n",
              "      <td>dog41.jpg</td>\n",
              "    </tr>\n",
              "  </tbody>\n",
              "</table>\n",
              "</div>"
            ],
            "text/plain": [
              "   id  width  height  file_name\n",
              "0   1    268     188  dog50.jpg\n",
              "1   2    275     183  dog49.jpg\n",
              "2   3    272     185  dog48.jpg\n",
              "3   4    275     183  dog47.jpg\n",
              "4   5    224     224  dog46.jpg\n",
              "5   6    259     194  dog45.jpg\n",
              "6   7    259     194  dog44.jpg\n",
              "7   8    300     168  dog43.jpg\n",
              "8   9    275     183  dog42.jpg\n",
              "9  10    347     145  dog41.jpg"
            ]
          },
          "metadata": {
            "tags": []
          },
          "execution_count": 5
        }
      ]
    },
    {
      "cell_type": "code",
      "metadata": {
        "id": "rdkMJGd6IWXI",
        "colab_type": "code",
        "colab": {}
      },
      "source": [
        "df = images_df.merge(annotations_df,left_on='id', right_on='image_id')\n",
        "df = df.merge(categories_df,left_on='category_id', right_on='category_id')"
      ],
      "execution_count": 6,
      "outputs": []
    },
    {
      "cell_type": "code",
      "metadata": {
        "id": "8ZQlWTD2I6up",
        "colab_type": "code",
        "colab": {
          "base_uri": "https://localhost:8080/",
          "height": 204
        },
        "outputId": "ebc46871-bc98-4d19-8fb7-3c72af531af2"
      },
      "source": [
        "df.head(5)"
      ],
      "execution_count": 7,
      "outputs": [
        {
          "output_type": "execute_result",
          "data": {
            "text/html": [
              "<div>\n",
              "<style scoped>\n",
              "    .dataframe tbody tr th:only-of-type {\n",
              "        vertical-align: middle;\n",
              "    }\n",
              "\n",
              "    .dataframe tbody tr th {\n",
              "        vertical-align: top;\n",
              "    }\n",
              "\n",
              "    .dataframe thead th {\n",
              "        text-align: right;\n",
              "    }\n",
              "</style>\n",
              "<table border=\"1\" class=\"dataframe\">\n",
              "  <thead>\n",
              "    <tr style=\"text-align: right;\">\n",
              "      <th></th>\n",
              "      <th>id</th>\n",
              "      <th>width</th>\n",
              "      <th>height</th>\n",
              "      <th>file_name</th>\n",
              "      <th>segmentation</th>\n",
              "      <th>area</th>\n",
              "      <th>bbox</th>\n",
              "      <th>image_id</th>\n",
              "      <th>category_id</th>\n",
              "      <th>name</th>\n",
              "    </tr>\n",
              "  </thead>\n",
              "  <tbody>\n",
              "    <tr>\n",
              "      <th>0</th>\n",
              "      <td>1</td>\n",
              "      <td>268</td>\n",
              "      <td>188</td>\n",
              "      <td>dog50.jpg</td>\n",
              "      <td>[[44, 27, 260, 27, 260, 177, 44, 177]]</td>\n",
              "      <td>32400</td>\n",
              "      <td>[44, 27, 216, 150]</td>\n",
              "      <td>1</td>\n",
              "      <td>1</td>\n",
              "      <td>dogs</td>\n",
              "    </tr>\n",
              "    <tr>\n",
              "      <th>1</th>\n",
              "      <td>2</td>\n",
              "      <td>275</td>\n",
              "      <td>183</td>\n",
              "      <td>dog49.jpg</td>\n",
              "      <td>[[54, 20, 168, 20, 168, 103, 54, 103]]</td>\n",
              "      <td>9462</td>\n",
              "      <td>[54, 20, 114, 83]</td>\n",
              "      <td>2</td>\n",
              "      <td>1</td>\n",
              "      <td>dogs</td>\n",
              "    </tr>\n",
              "    <tr>\n",
              "      <th>2</th>\n",
              "      <td>3</td>\n",
              "      <td>272</td>\n",
              "      <td>185</td>\n",
              "      <td>dog48.jpg</td>\n",
              "      <td>[[28, 25, 200, 25, 200, 175, 28, 175]]</td>\n",
              "      <td>25800</td>\n",
              "      <td>[28, 25, 172, 150]</td>\n",
              "      <td>3</td>\n",
              "      <td>1</td>\n",
              "      <td>dogs</td>\n",
              "    </tr>\n",
              "    <tr>\n",
              "      <th>3</th>\n",
              "      <td>4</td>\n",
              "      <td>275</td>\n",
              "      <td>183</td>\n",
              "      <td>dog47.jpg</td>\n",
              "      <td>[[33, 25, 233, 25, 233, 175, 33, 175]]</td>\n",
              "      <td>30000</td>\n",
              "      <td>[33, 25, 200, 150]</td>\n",
              "      <td>4</td>\n",
              "      <td>1</td>\n",
              "      <td>dogs</td>\n",
              "    </tr>\n",
              "    <tr>\n",
              "      <th>4</th>\n",
              "      <td>5</td>\n",
              "      <td>224</td>\n",
              "      <td>224</td>\n",
              "      <td>dog46.jpg</td>\n",
              "      <td>[[48, 21, 169, 21, 169, 171, 48, 171]]</td>\n",
              "      <td>18150</td>\n",
              "      <td>[48, 21, 121, 150]</td>\n",
              "      <td>5</td>\n",
              "      <td>1</td>\n",
              "      <td>dogs</td>\n",
              "    </tr>\n",
              "  </tbody>\n",
              "</table>\n",
              "</div>"
            ],
            "text/plain": [
              "   id  width  height  ... image_id category_id  name\n",
              "0   1    268     188  ...        1           1  dogs\n",
              "1   2    275     183  ...        2           1  dogs\n",
              "2   3    272     185  ...        3           1  dogs\n",
              "3   4    275     183  ...        4           1  dogs\n",
              "4   5    224     224  ...        5           1  dogs\n",
              "\n",
              "[5 rows x 10 columns]"
            ]
          },
          "metadata": {
            "tags": []
          },
          "execution_count": 7
        }
      ]
    },
    {
      "cell_type": "code",
      "metadata": {
        "id": "38jMIH7EO9cI",
        "colab_type": "code",
        "colab": {}
      },
      "source": [
        "width = []\n",
        "height = []\n",
        "x = []\n",
        "y = []\n",
        "for i in range(0,len(df)):\n",
        "    x.append(df['bbox'][i][0])\n",
        "    y.append(df['bbox'][i][1])\n",
        "    width.append(df['bbox'][i][2])\n",
        "    height.append(df['bbox'][i][3])\n",
        "df['x'], df['y'],df['bbox_width'], df['bbox_height'] = x, y, width, height"
      ],
      "execution_count": 8,
      "outputs": []
    },
    {
      "cell_type": "code",
      "metadata": {
        "id": "9j-jQ0ywPUzw",
        "colab_type": "code",
        "colab": {
          "base_uri": "https://localhost:8080/",
          "height": 204
        },
        "outputId": "76e91e41-9c85-4471-ad44-2522f7f9acc4"
      },
      "source": [
        "df.head(5)"
      ],
      "execution_count": 9,
      "outputs": [
        {
          "output_type": "execute_result",
          "data": {
            "text/html": [
              "<div>\n",
              "<style scoped>\n",
              "    .dataframe tbody tr th:only-of-type {\n",
              "        vertical-align: middle;\n",
              "    }\n",
              "\n",
              "    .dataframe tbody tr th {\n",
              "        vertical-align: top;\n",
              "    }\n",
              "\n",
              "    .dataframe thead th {\n",
              "        text-align: right;\n",
              "    }\n",
              "</style>\n",
              "<table border=\"1\" class=\"dataframe\">\n",
              "  <thead>\n",
              "    <tr style=\"text-align: right;\">\n",
              "      <th></th>\n",
              "      <th>id</th>\n",
              "      <th>width</th>\n",
              "      <th>height</th>\n",
              "      <th>file_name</th>\n",
              "      <th>segmentation</th>\n",
              "      <th>area</th>\n",
              "      <th>bbox</th>\n",
              "      <th>image_id</th>\n",
              "      <th>category_id</th>\n",
              "      <th>name</th>\n",
              "      <th>x</th>\n",
              "      <th>y</th>\n",
              "      <th>bbox_width</th>\n",
              "      <th>bbox_height</th>\n",
              "    </tr>\n",
              "  </thead>\n",
              "  <tbody>\n",
              "    <tr>\n",
              "      <th>0</th>\n",
              "      <td>1</td>\n",
              "      <td>268</td>\n",
              "      <td>188</td>\n",
              "      <td>dog50.jpg</td>\n",
              "      <td>[[44, 27, 260, 27, 260, 177, 44, 177]]</td>\n",
              "      <td>32400</td>\n",
              "      <td>[44, 27, 216, 150]</td>\n",
              "      <td>1</td>\n",
              "      <td>1</td>\n",
              "      <td>dogs</td>\n",
              "      <td>44</td>\n",
              "      <td>27</td>\n",
              "      <td>216</td>\n",
              "      <td>150</td>\n",
              "    </tr>\n",
              "    <tr>\n",
              "      <th>1</th>\n",
              "      <td>2</td>\n",
              "      <td>275</td>\n",
              "      <td>183</td>\n",
              "      <td>dog49.jpg</td>\n",
              "      <td>[[54, 20, 168, 20, 168, 103, 54, 103]]</td>\n",
              "      <td>9462</td>\n",
              "      <td>[54, 20, 114, 83]</td>\n",
              "      <td>2</td>\n",
              "      <td>1</td>\n",
              "      <td>dogs</td>\n",
              "      <td>54</td>\n",
              "      <td>20</td>\n",
              "      <td>114</td>\n",
              "      <td>83</td>\n",
              "    </tr>\n",
              "    <tr>\n",
              "      <th>2</th>\n",
              "      <td>3</td>\n",
              "      <td>272</td>\n",
              "      <td>185</td>\n",
              "      <td>dog48.jpg</td>\n",
              "      <td>[[28, 25, 200, 25, 200, 175, 28, 175]]</td>\n",
              "      <td>25800</td>\n",
              "      <td>[28, 25, 172, 150]</td>\n",
              "      <td>3</td>\n",
              "      <td>1</td>\n",
              "      <td>dogs</td>\n",
              "      <td>28</td>\n",
              "      <td>25</td>\n",
              "      <td>172</td>\n",
              "      <td>150</td>\n",
              "    </tr>\n",
              "    <tr>\n",
              "      <th>3</th>\n",
              "      <td>4</td>\n",
              "      <td>275</td>\n",
              "      <td>183</td>\n",
              "      <td>dog47.jpg</td>\n",
              "      <td>[[33, 25, 233, 25, 233, 175, 33, 175]]</td>\n",
              "      <td>30000</td>\n",
              "      <td>[33, 25, 200, 150]</td>\n",
              "      <td>4</td>\n",
              "      <td>1</td>\n",
              "      <td>dogs</td>\n",
              "      <td>33</td>\n",
              "      <td>25</td>\n",
              "      <td>200</td>\n",
              "      <td>150</td>\n",
              "    </tr>\n",
              "    <tr>\n",
              "      <th>4</th>\n",
              "      <td>5</td>\n",
              "      <td>224</td>\n",
              "      <td>224</td>\n",
              "      <td>dog46.jpg</td>\n",
              "      <td>[[48, 21, 169, 21, 169, 171, 48, 171]]</td>\n",
              "      <td>18150</td>\n",
              "      <td>[48, 21, 121, 150]</td>\n",
              "      <td>5</td>\n",
              "      <td>1</td>\n",
              "      <td>dogs</td>\n",
              "      <td>48</td>\n",
              "      <td>21</td>\n",
              "      <td>121</td>\n",
              "      <td>150</td>\n",
              "    </tr>\n",
              "  </tbody>\n",
              "</table>\n",
              "</div>"
            ],
            "text/plain": [
              "   id  width  height  file_name  ...   x   y bbox_width  bbox_height\n",
              "0   1    268     188  dog50.jpg  ...  44  27        216          150\n",
              "1   2    275     183  dog49.jpg  ...  54  20        114           83\n",
              "2   3    272     185  dog48.jpg  ...  28  25        172          150\n",
              "3   4    275     183  dog47.jpg  ...  33  25        200          150\n",
              "4   5    224     224  dog46.jpg  ...  48  21        121          150\n",
              "\n",
              "[5 rows x 14 columns]"
            ]
          },
          "metadata": {
            "tags": []
          },
          "execution_count": 9
        }
      ]
    },
    {
      "cell_type": "code",
      "metadata": {
        "id": "wJXnZiiUReWg",
        "colab_type": "code",
        "colab": {}
      },
      "source": [
        "# Normalized image\n",
        "\n",
        "df['Norm_bbox_width'], df['Norm_bbox_height'] = df['bbox_width']/df['width'], df['bbox_height']/df['height']\n",
        "\n",
        "df['Norm_x'], df['Norm_y'] = df['x']/df['width'], df['y']/df['height']"
      ],
      "execution_count": 10,
      "outputs": []
    },
    {
      "cell_type": "code",
      "metadata": {
        "id": "1iuI-BQERn-S",
        "colab_type": "code",
        "colab": {
          "base_uri": "https://localhost:8080/",
          "height": 479
        },
        "outputId": "9afa3db6-339f-4cf4-d8dc-04ab709ce2e3"
      },
      "source": [
        "df.head(5)"
      ],
      "execution_count": 11,
      "outputs": [
        {
          "output_type": "execute_result",
          "data": {
            "text/html": [
              "<div>\n",
              "<style scoped>\n",
              "    .dataframe tbody tr th:only-of-type {\n",
              "        vertical-align: middle;\n",
              "    }\n",
              "\n",
              "    .dataframe tbody tr th {\n",
              "        vertical-align: top;\n",
              "    }\n",
              "\n",
              "    .dataframe thead th {\n",
              "        text-align: right;\n",
              "    }\n",
              "</style>\n",
              "<table border=\"1\" class=\"dataframe\">\n",
              "  <thead>\n",
              "    <tr style=\"text-align: right;\">\n",
              "      <th></th>\n",
              "      <th>id</th>\n",
              "      <th>width</th>\n",
              "      <th>height</th>\n",
              "      <th>file_name</th>\n",
              "      <th>segmentation</th>\n",
              "      <th>area</th>\n",
              "      <th>bbox</th>\n",
              "      <th>image_id</th>\n",
              "      <th>category_id</th>\n",
              "      <th>name</th>\n",
              "      <th>x</th>\n",
              "      <th>y</th>\n",
              "      <th>bbox_width</th>\n",
              "      <th>bbox_height</th>\n",
              "      <th>Norm_bbox_width</th>\n",
              "      <th>Norm_bbox_height</th>\n",
              "      <th>Norm_x</th>\n",
              "      <th>Norm_y</th>\n",
              "    </tr>\n",
              "  </thead>\n",
              "  <tbody>\n",
              "    <tr>\n",
              "      <th>0</th>\n",
              "      <td>1</td>\n",
              "      <td>268</td>\n",
              "      <td>188</td>\n",
              "      <td>dog50.jpg</td>\n",
              "      <td>[[44, 27, 260, 27, 260, 177, 44, 177]]</td>\n",
              "      <td>32400</td>\n",
              "      <td>[44, 27, 216, 150]</td>\n",
              "      <td>1</td>\n",
              "      <td>1</td>\n",
              "      <td>dogs</td>\n",
              "      <td>44</td>\n",
              "      <td>27</td>\n",
              "      <td>216</td>\n",
              "      <td>150</td>\n",
              "      <td>0.805970</td>\n",
              "      <td>0.797872</td>\n",
              "      <td>0.164179</td>\n",
              "      <td>0.143617</td>\n",
              "    </tr>\n",
              "    <tr>\n",
              "      <th>1</th>\n",
              "      <td>2</td>\n",
              "      <td>275</td>\n",
              "      <td>183</td>\n",
              "      <td>dog49.jpg</td>\n",
              "      <td>[[54, 20, 168, 20, 168, 103, 54, 103]]</td>\n",
              "      <td>9462</td>\n",
              "      <td>[54, 20, 114, 83]</td>\n",
              "      <td>2</td>\n",
              "      <td>1</td>\n",
              "      <td>dogs</td>\n",
              "      <td>54</td>\n",
              "      <td>20</td>\n",
              "      <td>114</td>\n",
              "      <td>83</td>\n",
              "      <td>0.414545</td>\n",
              "      <td>0.453552</td>\n",
              "      <td>0.196364</td>\n",
              "      <td>0.109290</td>\n",
              "    </tr>\n",
              "    <tr>\n",
              "      <th>2</th>\n",
              "      <td>3</td>\n",
              "      <td>272</td>\n",
              "      <td>185</td>\n",
              "      <td>dog48.jpg</td>\n",
              "      <td>[[28, 25, 200, 25, 200, 175, 28, 175]]</td>\n",
              "      <td>25800</td>\n",
              "      <td>[28, 25, 172, 150]</td>\n",
              "      <td>3</td>\n",
              "      <td>1</td>\n",
              "      <td>dogs</td>\n",
              "      <td>28</td>\n",
              "      <td>25</td>\n",
              "      <td>172</td>\n",
              "      <td>150</td>\n",
              "      <td>0.632353</td>\n",
              "      <td>0.810811</td>\n",
              "      <td>0.102941</td>\n",
              "      <td>0.135135</td>\n",
              "    </tr>\n",
              "    <tr>\n",
              "      <th>3</th>\n",
              "      <td>4</td>\n",
              "      <td>275</td>\n",
              "      <td>183</td>\n",
              "      <td>dog47.jpg</td>\n",
              "      <td>[[33, 25, 233, 25, 233, 175, 33, 175]]</td>\n",
              "      <td>30000</td>\n",
              "      <td>[33, 25, 200, 150]</td>\n",
              "      <td>4</td>\n",
              "      <td>1</td>\n",
              "      <td>dogs</td>\n",
              "      <td>33</td>\n",
              "      <td>25</td>\n",
              "      <td>200</td>\n",
              "      <td>150</td>\n",
              "      <td>0.727273</td>\n",
              "      <td>0.819672</td>\n",
              "      <td>0.120000</td>\n",
              "      <td>0.136612</td>\n",
              "    </tr>\n",
              "    <tr>\n",
              "      <th>4</th>\n",
              "      <td>5</td>\n",
              "      <td>224</td>\n",
              "      <td>224</td>\n",
              "      <td>dog46.jpg</td>\n",
              "      <td>[[48, 21, 169, 21, 169, 171, 48, 171]]</td>\n",
              "      <td>18150</td>\n",
              "      <td>[48, 21, 121, 150]</td>\n",
              "      <td>5</td>\n",
              "      <td>1</td>\n",
              "      <td>dogs</td>\n",
              "      <td>48</td>\n",
              "      <td>21</td>\n",
              "      <td>121</td>\n",
              "      <td>150</td>\n",
              "      <td>0.540179</td>\n",
              "      <td>0.669643</td>\n",
              "      <td>0.214286</td>\n",
              "      <td>0.093750</td>\n",
              "    </tr>\n",
              "  </tbody>\n",
              "</table>\n",
              "</div>"
            ],
            "text/plain": [
              "   id  width  height  ... Norm_bbox_height    Norm_x    Norm_y\n",
              "0   1    268     188  ...         0.797872  0.164179  0.143617\n",
              "1   2    275     183  ...         0.453552  0.196364  0.109290\n",
              "2   3    272     185  ...         0.810811  0.102941  0.135135\n",
              "3   4    275     183  ...         0.819672  0.120000  0.136612\n",
              "4   5    224     224  ...         0.669643  0.214286  0.093750\n",
              "\n",
              "[5 rows x 18 columns]"
            ]
          },
          "metadata": {
            "tags": []
          },
          "execution_count": 11
        }
      ]
    },
    {
      "cell_type": "code",
      "metadata": {
        "id": "PypCUzvkS5yg",
        "colab_type": "code",
        "colab": {
          "base_uri": "https://localhost:8080/",
          "height": 295
        },
        "outputId": "cc01eaf3-685e-4120-e72c-eb16b210d253"
      },
      "source": [
        "\n",
        "\n",
        "from sklearn.cluster import KMeans\n",
        "\n",
        "import numpy as np\n",
        "import matplotlib.pyplot as plt\n",
        "import pandas as pd\n",
        "\n",
        "wcss=[]\n",
        "kmeans_data = df.iloc[:,[14,15]].values # getting Norm_bbox_width and Norm_bbox_height\n",
        "\n",
        "for i in range(1,11):\n",
        "  kmeans = KMeans(n_clusters=i,init='k-means++',max_iter = 300,n_init=10,random_state=0)\n",
        "  kmeans.fit(kmeans_data)\n",
        "  wcss.append(kmeans.inertia_)\n",
        "\n",
        "plt.plot(range(1,11),wcss)\n",
        "plt.xlabel(\"Number of clusters\")\n",
        "plt.ylabel(\"wcss\")\n",
        "plt.title(\"Elbow Method\")\n",
        "plt.show()"
      ],
      "execution_count": 12,
      "outputs": [
        {
          "output_type": "display_data",
          "data": {
            "image/png": "[encoded data removed]",
            "text/plain": [
              "<Figure size 432x288 with 1 Axes>"
            ]
          },
          "metadata": {
            "tags": [],
            "needs_background": "light"
          }
        }
      ]
    },
    {
      "cell_type": "code",
      "metadata": {
        "id": "8vb9ywLtfHjM",
        "colab_type": "code",
        "colab": {}
      },
      "source": [
        "kmeans=KMeans(n_clusters=3,init='k-means++',max_iter = 300,n_init=10,random_state=0)\n",
        "\n",
        "y_kmeans=kmeans.fit(kmeans_data)"
      ],
      "execution_count": 13,
      "outputs": []
    },
    {
      "cell_type": "code",
      "metadata": {
        "id": "l1-uHNkEgin1",
        "colab_type": "code",
        "colab": {
          "base_uri": "https://localhost:8080/",
          "height": 68
        },
        "outputId": "dff48c81-8b92-4141-bbb1-ff3534f4d2f7"
      },
      "source": [
        "print(kmeans.cluster_centers_)"
      ],
      "execution_count": 14,
      "outputs": [
        {
          "output_type": "stream",
          "text": [
            "[[0.41394292 0.62817959]\n",
            " [0.41326188 0.85366758]\n",
            " [0.69877723 0.8172807 ]]\n"
          ],
          "name": "stdout"
        }
      ]
    },
    {
      "cell_type": "markdown",
      "metadata": {
        "id": "5N03JeRwgr5P",
        "colab_type": "text"
      },
      "source": [
        "## Show the centroid in black color"
      ]
    },
    {
      "cell_type": "code",
      "metadata": {
        "id": "vbOaX3NYgt-o",
        "colab_type": "code",
        "colab": {
          "base_uri": "https://localhost:8080/",
          "height": 282
        },
        "outputId": "7f037cab-8e8b-4471-b5b2-6527d2851e0f"
      },
      "source": [
        "plt.scatter(kmeans_data[:,0],kmeans_data[:,1], c=kmeans.labels_, cmap='rainbow')\n",
        "plt.scatter(kmeans.cluster_centers_[:,0],kmeans.cluster_centers_[:,1], color='black', s=200)"
      ],
      "execution_count": 15,
      "outputs": [
        {
          "output_type": "execute_result",
          "data": {
            "text/plain": [
              "<matplotlib.collections.PathCollection at 0x7fa9f8c5f0b8>"
            ]
          },
          "metadata": {
            "tags": []
          },
          "execution_count": 15
        },
        {
          "output_type": "display_data",
          "data": {
            "image/png": "[encoded data removed]",
            "text/plain": [
              "<Figure size 432x288 with 1 Axes>"
            ]
          },
          "metadata": {
            "tags": [],
            "needs_background": "light"
          }
        }
      ]
    }
  ]
}